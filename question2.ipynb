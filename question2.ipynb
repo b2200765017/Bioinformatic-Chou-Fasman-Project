{
 "cells": [
  {
   "cell_type": "code",
   "execution_count": 249,
   "metadata": {},
   "outputs": [],
   "source": [
    "import seaborn as sns\n",
    "import matplotlib.pyplot as plt\n",
    "from sklearn.metrics import confusion_matrix, classification_report"
   ]
  },
  {
   "cell_type": "code",
   "execution_count": 250,
   "metadata": {},
   "outputs": [],
   "source": [
    "sequence = \"MASQNRDPAATSVAAARKGAEPSGGAARGPVGKRLQQELMTLMMSGDKGISAFPESDNLFKWVGTIHGAAGTVYEDLRYKLSLEFPSGYPYNAPTVKFLTPCYHPNVDTQGNICLDILKEKWSALYDVRTILLSIQSLLGEPNIDSPLNTHAAELWKNPTAFKKYLQETYSKQVTSQEP\"\n",
    "chou_fasman_table = {\n",
    "    'A': {'P_a': 1.42, 'P_b': 0.83, 'P_turn': 0.66, 'f_i': 0.06,  'f_i1': 0.076, 'f_i2': 0.035, 'f_i3': 0.058},\n",
    "    'R': {'P_a': 0.98, 'P_b': 0.93, 'P_turn': 0.95, 'f_i': 0.070, 'f_i1': 0.106, 'f_i2': 0.099, 'f_i3': 0.085},\n",
    "    'D': {'P_a': 1.01, 'P_b': 0.54, 'P_turn': 1.46, 'f_i': 0.147, 'f_i1': 0.110, 'f_i2': 0.179, 'f_i3': 0.081},\n",
    "    'N': {'P_a': 0.67, 'P_b': 0.89, 'P_turn': 1.56, 'f_i': 0.161, 'f_i1': 0.083, 'f_i2': 0.191, 'f_i3': 0.091},\n",
    "    'C': {'P_a': 0.70, 'P_b': 1.19, 'P_turn': 1.19, 'f_i': 0.149, 'f_i1': 0.050, 'f_i2': 0.117, 'f_i3': 0.128},\n",
    "    'E': {'P_a': 1.39, 'P_b': 1.17, 'P_turn': 0.74, 'f_i': 0.056, 'f_i1': 0.060, 'f_i2': 0.077, 'f_i3': 0.064},\n",
    "    'Q': {'P_a': 1.11, 'P_b': 1.10, 'P_turn': 0.98, 'f_i': 0.074, 'f_i1': 0.098, 'f_i2': 0.037, 'f_i3': 0.098},\n",
    "    'G': {'P_a': 0.57, 'P_b': 0.75, 'P_turn': 1.56, 'f_i': 0.102, 'f_i1': 0.085, 'f_i2': 0.190, 'f_i3': 0.152},\n",
    "    'H': {'P_a': 1.00, 'P_b': 0.87, 'P_turn': 0.95, 'f_i': 0.140, 'f_i1': 0.047, 'f_i2': 0.093, 'f_i3': 0.054},\n",
    "    'I': {'P_a': 1.08, 'P_b': 1.60, 'P_turn': 0.47, 'f_i': 0.043, 'f_i1': 0.034, 'f_i2': 0.013, 'f_i3': 0.056},\n",
    "    'L': {'P_a': 1.41, 'P_b': 1.30, 'P_turn': 0.59, 'f_i': 0.061, 'f_i1': 0.025, 'f_i2': 0.036, 'f_i3': 0.070},\n",
    "    'K': {'P_a': 1.14, 'P_b': 0.74, 'P_turn': 1.01, 'f_i': 0.055, 'f_i1': 0.115, 'f_i2': 0.072, 'f_i3': 0.095},\n",
    "    'M': {'P_a': 1.45, 'P_b': 1.05, 'P_turn': 0.60, 'f_i': 0.068, 'f_i1': 0.082, 'f_i2': 0.014, 'f_i3': 0.055},\n",
    "    'F': {'P_a': 1.13, 'P_b': 1.38, 'P_turn': 0.60, 'f_i': 0.059, 'f_i1': 0.041, 'f_i2': 0.065, 'f_i3': 0.065},\n",
    "    'P': {'P_a': 0.57, 'P_b': 0.55, 'P_turn': 1.52, 'f_i': 0.102, 'f_i1': 0.301, 'f_i2': 0.034, 'f_i3': 0.068},\n",
    "    'S': {'P_a': 0.77, 'P_b': 0.75, 'P_turn': 1.43, 'f_i': 0.120, 'f_i1': 0.139, 'f_i2': 0.125, 'f_i3': 0.106},\n",
    "    'T': {'P_a': 0.83, 'P_b': 1.19, 'P_turn': 0.96, 'f_i': 0.086, 'f_i1': 0.108, 'f_i2': 0.065, 'f_i3': 0.079},\n",
    "    'W': {'P_a': 1.08, 'P_b': 1.37, 'P_turn': 0.96, 'f_i': 0.077, 'f_i1': 0.013, 'f_i2': 0.064, 'f_i3': 0.167},\n",
    "    'Y': {'P_a': 0.69, 'P_b': 1.47, 'P_turn': 1.14, 'f_i': 0.082, 'f_i1': 0.065, 'f_i2': 0.114, 'f_i3': 0.125},\n",
    "    'V': {'P_a': 1.06, 'P_b': 1.70, 'P_turn': 0.50, 'f_i': 0.062, 'f_i1': 0.048, 'f_i2': 0.028, 'f_i3': 0.053}\n",
    "}\n",
    "sse_data = [\n",
    "    (\"Helix\", 30, 45),\n",
    "    (\"Beta strand\", 50, 54),\n",
    "    (\"Beta strand\", 61, 68),\n",
    "    (\"Beta strand\", 78, 84),\n",
    "    (\"Turn\", 87, 91),\n",
    "    (\"Beta strand\", 95, 100),\n",
    "    (\"Beta strand\", 111, 113),\n",
    "    (\"Helix\", 116, 118),\n",
    "    (\"Turn\", 119, 121),\n",
    "    (\"Helix\", 128, 140),\n",
    "    (\"Helix\", 150, 155),\n",
    "    (\"Helix\", 159, 172)\n",
    "]\n",
    "sequence_length = len(sequence)"
   ]
  },
  {
   "cell_type": "code",
   "execution_count": 251,
   "metadata": {},
   "outputs": [],
   "source": [
    "def get_true_sequence(data):\n",
    "    sequence = \"_\" * sequence_length\n",
    "    for structure, start, end in data:\n",
    "        if structure == \"Helix\":\n",
    "            structure_letter = \"H\"\n",
    "        elif structure == \"Beta strand\":\n",
    "            structure_letter = \"E\"\n",
    "        elif structure == \"Turn\":\n",
    "            structure_letter = \"T\"\n",
    "        else:\n",
    "            structure_letter = \"U\"\n",
    "        for i in range(start, end + 1):\n",
    "            sequence = sequence[:i] + structure_letter + sequence[i + 1:]\n",
    "    for j in range(sequence_length):\n",
    "        if sequence[j] == \"_\":\n",
    "            sequence = sequence[:j] + \"U\" + sequence[j + 1:]\n",
    "    return sequence"
   ]
  },
  {
   "cell_type": "code",
   "execution_count": 252,
   "metadata": {},
   "outputs": [
    {
     "name": "stdout",
     "output_type": "stream",
     "text": [
      "UUUUUUUUUUUUUUUUUUUUUUUUUUUUUUHHHHHHHHHHHHHHHHUUUUEEEEEUUUUUUEEEEEEEEUUUUUUUUUEEEEEEEUUTTTTTUUUEEEEEEUUUUUUUUUUEEEUUHHHTTTUUUUUUHHHHHHHHHHHHHUUUUUUUUUHHHHHHUUUHHHHHHHHHHHHHHUUUUUU\n"
     ]
    }
   ],
   "source": [
    "true_sequence = get_true_sequence(sse_data)\n",
    "print(true_sequence)"
   ]
  },
  {
   "cell_type": "code",
   "execution_count": 253,
   "metadata": {},
   "outputs": [],
   "source": [
    "def predict_alpha_helices(sequence, chou_fasman_table):\n",
    "    alpha_helices = []\n",
    "\n",
    "    def is_helix_forming(segment):\n",
    "        return sum(chou_fasman_table[residue]['P_a'] > 1 for residue in segment) >= 4\n",
    "\n",
    "    def extend_helix(start, end):\n",
    "        # Extend to the right\n",
    "        right_pos = end + 1\n",
    "        while right_pos != sequence_length:\n",
    "            counter_right = sum(chou_fasman_table[sequence[k]]['P_a'] < 1 for k in range(max(0, right_pos - 3), right_pos+1))\n",
    "            if counter_right == 4:\n",
    "                end = right_pos - 4\n",
    "                break\n",
    "            right_pos += 1\n",
    "\n",
    "        # Extend to the left\n",
    "        left_pos = start - 1\n",
    "        while left_pos != -1:\n",
    "            counter_left = sum(chou_fasman_table[sequence[k]]['P_a'] < 1 for k in range(left_pos, min(sequence_length, left_pos + 4)))\n",
    "            if counter_left == 4:\n",
    "                start = left_pos + 4\n",
    "                break\n",
    "            left_pos -= 1\n",
    "\n",
    "        return start, end\n",
    "\n",
    "    for i in range(sequence_length - 5):\n",
    "        segment = sequence[i:i+6]\n",
    "        if is_helix_forming(segment):\n",
    "            start, end = extend_helix(i, i + 5)\n",
    "            alpha_helices.append((start, end))\n",
    "\n",
    "    return alpha_helices\n",
    "\n",
    "def predict_beta_sheets(sequence, chou_fasman_table):\n",
    "    beta_sheets = []\n",
    "\n",
    "    def is_sheet_forming(segment):\n",
    "        return sum(chou_fasman_table[residue]['P_b'] > 1 for residue in segment) >= 4\n",
    "\n",
    "    def extend_sheet(start, end):\n",
    "        # Extend to the right\n",
    "        right_pos = end + 1\n",
    "\n",
    "        while right_pos != sequence_length:\n",
    "            counter_right = sum(chou_fasman_table[sequence[k]]['P_b'] < 1 for k in range(max(0, right_pos - 3), right_pos+1))\n",
    "            if counter_right == 4:\n",
    "                end = right_pos - 4\n",
    "                break\n",
    "            right_pos += 1\n",
    "\n",
    "        # Extend to the left\n",
    "        left_pos = start - 1\n",
    "        while left_pos != -1:\n",
    "            counter_left = sum(chou_fasman_table[sequence[k]]['P_b'] < 1 for k in range(left_pos, min(sequence_length, left_pos + 4)))\n",
    "            if counter_left == 4:\n",
    "                start = left_pos + 4\n",
    "                break\n",
    "            left_pos -= 1\n",
    "\n",
    "        return start, end\n",
    "\n",
    "    for i in range(sequence_length - 5):\n",
    "        segment = sequence[i:i+6]\n",
    "        if is_sheet_forming(segment):\n",
    "            start, end = extend_sheet(i, i + 5)\n",
    "            beta_sheets.append((start, end))\n",
    "\n",
    "    return beta_sheets\n",
    "\n",
    "\n",
    "def predict_turns(sequence, chou_fasman_table):\n",
    "    turns = []\n",
    "\n",
    "    for i in range(sequence_length - 3):\n",
    "        segment = sequence[i:i+4]\n",
    "        P_bend = chou_fasman_table[segment[0]]['f_i'] * chou_fasman_table[segment[1]]['f_i1'] * chou_fasman_table[segment[2]]['f_i2'] * chou_fasman_table[segment[3]]['f_i3']\n",
    "        P_turn_avg = sum([chou_fasman_table[residue]['P_turn'] for residue in segment]) / 4\n",
    "        sum_P_turn = sum([chou_fasman_table[residue]['P_turn'] for residue in segment])\n",
    "        sum_P_alpha = sum([chou_fasman_table[residue]['P_a'] for residue in segment])\n",
    "        sum_P_beta = sum([chou_fasman_table[residue]['P_b'] for residue in segment])\n",
    "        \n",
    "        if  (P_bend > 0.000075) and (P_turn_avg  > 1) and (sum_P_turn > sum_P_alpha) and (sum_P_turn > sum_P_beta):\n",
    "\n",
    "            turns.append((i, i + 3))\n",
    "\n",
    "    return turns\n"
   ]
  },
  {
   "cell_type": "code",
   "execution_count": 254,
   "metadata": {},
   "outputs": [
    {
     "name": "stdout",
     "output_type": "stream",
     "text": [
      "77\n",
      "59\n",
      "Predicted alpha-helices: [(8, 20), (9, 20), (10, 20), (11, 20), (12, 20), (13, 20), (14, 20), (15, 20), (25, 84), (25, 84), (25, 84), (25, 84), (25, 84), (25, 84), (25, 84), (25, 84), (25, 84), (25, 84), (25, 84), (25, 84), (25, 84), (25, 84), (25, 84), (25, 84), (25, 84), (25, 84), (25, 84), (25, 84), (25, 84), (25, 84), (25, 84), (25, 84), (25, 84), (25, 84), (25, 84), (25, 84), (25, 84), (25, 84), (92, 98), (92, 98), (92, 98), (92, 98), (103, 116), (103, 117), (103, 118), (103, 119), (103, 120), (103, 121), (103, 122), (103, 123), (103, 124), (103, 125), (103, 126), (103, 127), (103, 128), (103, 131), (103, 132), (103, 134), (103, 135), (103, 136), (103, 137), (103, 138), (103, 139), (103, 140), (103, 154), (103, 155), (103, 156), (103, 157), (103, 158), (103, 163), (103, 164), (103, 165), (103, 166), (103, 167), (103, 168), (103, 176), (103, 177)]\n",
      "Predicted beta-sheets: [(30, 43), (30, 43), (30, 43), (30, 43), (30, 43), (30, 43), (30, 43), (30, 43), (30, 43), (49, 65), (49, 65), (49, 65), (49, 65), (49, 65), (71, 74), (71, 75), (71, 76), (71, 77), (71, 78), (71, 83), (71, 84), (71, 85), (71, 98), (71, 99), (71, 100), (71, 101), (71, 102), (71, 103), (71, 113), (71, 114), (71, 116), (71, 117), (71, 118), (71, 119), (71, 121), (71, 129), (71, 130), (71, 131), (71, 132), (71, 133), (71, 134), (71, 135), (71, 136), (71, 137), (71, 138), (71, 139), (71, 140), (71, 166), (71, 167), (71, 168), (71, 169), (71, 170), (71, 171), (71, 172), (71, 173), (71, 174), (71, 176), (71, 177), (71, 178)]\n",
      "Predicted alpha-helices: [(8, 20), (9, 20), (10, 20), (11, 20), (12, 20), (13, 20), (14, 20), (15, 20), (25, 84), (92, 98), (103, 137), (103, 140), (103, 155), (103, 158), (103, 164), (103, 167), (103, 176), (103, 118), (103, 124), (103, 121), (103, 127), (103, 136), (103, 139), (103, 157), (103, 154), (103, 163), (103, 166), (103, 117), (103, 120), (103, 126), (103, 123), (103, 132), (103, 138), (103, 135), (103, 156), (103, 165), (103, 168), (103, 119), (103, 177), (103, 116), (103, 122), (103, 125), (103, 131), (103, 128), (103, 134)]\n",
      "Predicted beta-sheets: [(30, 43), (49, 65), (71, 84), (71, 136), (71, 99), (71, 102), (71, 166), (71, 172), (71, 169), (71, 114), (71, 178), (71, 117), (71, 129), (71, 132), (71, 77), (71, 135), (71, 74), (71, 138), (71, 83), (71, 101), (71, 98), (71, 168), (71, 174), (71, 113), (71, 171), (71, 177), (71, 116), (71, 119), (71, 134), (71, 131), (71, 137), (71, 76), (71, 140), (71, 85), (71, 103), (71, 100), (71, 167), (71, 170), (71, 173), (71, 118), (71, 176), (71, 121), (71, 130), (71, 75), (71, 133), (71, 139), (71, 78)]\n"
     ]
    }
   ],
   "source": [
    "alpha_helices = predict_alpha_helices(sequence, chou_fasman_table)\n",
    "beta_sheets = predict_beta_sheets(sequence, chou_fasman_table)\n",
    "\n",
    "print(len(alpha_helices))\n",
    "print(len(beta_sheets))\n",
    "print(\"Predicted alpha-helices:\", alpha_helices)\n",
    "print(\"Predicted beta-sheets:\", beta_sheets)\n",
    "\n",
    "alpha_helices = list(set(alpha_helices))\n",
    "beta_sheets = list(set(beta_sheets))\n",
    "\n",
    "alpha_helices = sorted(alpha_helices, key=lambda x: x[0])\n",
    "beta_sheets = sorted(beta_sheets, key=lambda x: x[0])\n",
    "\n",
    "print(\"Predicted alpha-helices:\", alpha_helices)\n",
    "print(\"Predicted beta-sheets:\", beta_sheets)\n"
   ]
  },
  {
   "cell_type": "code",
   "execution_count": 255,
   "metadata": {},
   "outputs": [],
   "source": [
    "def consolidate_structures(structures):\n",
    "    consolidated = []\n",
    "    current_start, current_end = structures[0]\n",
    "\n",
    "    for start, end in structures[1:]:\n",
    "        if start <= current_end + 1:\n",
    "            # Extend the current helix\n",
    "            current_end = max(current_end, end)\n",
    "        else:\n",
    "            # Save the current helix and start a new one\n",
    "            consolidated.append((current_start, current_end))\n",
    "            current_start, current_end = start, end\n",
    "\n",
    "    # Add the last helix\n",
    "    consolidated.append((current_start, current_end))\n",
    "\n",
    "    return consolidated"
   ]
  },
  {
   "cell_type": "code",
   "execution_count": 256,
   "metadata": {},
   "outputs": [
    {
     "name": "stdout",
     "output_type": "stream",
     "text": [
      "alpha-helices: [(8, 20), (25, 84), (92, 98), (103, 177)]\n",
      "beta-sheets: [(30, 43), (49, 65), (71, 178)]\n"
     ]
    }
   ],
   "source": [
    "alpha_helices = consolidate_structures(alpha_helices)\n",
    "beta_sheets = consolidate_structures(beta_sheets)\n",
    "\n",
    "print(\"alpha-helices:\", alpha_helices)\n",
    "print(\"beta-sheets:\", beta_sheets)"
   ]
  },
  {
   "cell_type": "code",
   "execution_count": 257,
   "metadata": {},
   "outputs": [],
   "source": [
    "def find_overlaps(alpha_helices, beta_sheets, sequence_length):\n",
    "    alpha_booleans = [False] * sequence_length\n",
    "    beta_booleans = [False] * sequence_length\n",
    "    for start, end in alpha_helices:\n",
    "        alpha_booleans[start:end+1] = [True] * (end - start + 1)\n",
    "    for start, end in beta_sheets:\n",
    "        beta_booleans[start:end+1] = [True] * (end - start + 1)\n",
    "    overlaps = []\n",
    "    start = -1\n",
    "    end = -1\n",
    "    for i in range(sequence_length):\n",
    "        if alpha_booleans[i] and beta_booleans[i]:\n",
    "            if start == -1:\n",
    "                start = i\n",
    "            end = i\n",
    "        else:\n",
    "            if start != -1:\n",
    "                overlaps.append((start, end))\n",
    "                start = -1\n",
    "                end = -1\n",
    "    if start != -1:\n",
    "        overlaps.append((start, end))\n",
    "    return overlaps"
   ]
  },
  {
   "cell_type": "code",
   "execution_count": 258,
   "metadata": {},
   "outputs": [
    {
     "name": "stdout",
     "output_type": "stream",
     "text": [
      "Overlaps: [(30, 43), (49, 65), (71, 84), (92, 98), (103, 177)]\n"
     ]
    }
   ],
   "source": [
    "overlaps = find_overlaps(alpha_helices, beta_sheets, sequence_length)\n",
    "print(\"Overlaps:\", overlaps)"
   ]
  },
  {
   "cell_type": "code",
   "execution_count": 259,
   "metadata": {},
   "outputs": [
    {
     "name": "stdout",
     "output_type": "stream",
     "text": [
      "--------HHHHHHHHHHHHH----HHHHHHHHHHHHHHHHHHHHHHHHEEEEEEEEEEEEEEEEEHHHHHEEEEEEEEEEEEEEEEEEEEEEEEEEEEEEEEEEEEEEEEEEEEEEEEEEEEEEEEEEEEEEEEEEEEEEEEEEEEEEEEEEEEEEEEEEEEEEEEEEEEEEEEEEEE\n"
     ]
    }
   ],
   "source": [
    "def compare_structure_propensity(start, end, chou_fasman_table, sequence):\n",
    "    def sum_propensity(start, end, structure_type):\n",
    "        if structure_type == 'alpha':\n",
    "            return sum(chou_fasman_table[sequence[i]]['P_a'] for i in range(start, end + 1))\n",
    "        elif structure_type == 'beta':\n",
    "            return sum(chou_fasman_table[sequence[i]]['P_b'] for i in range(start, end + 1))\n",
    "        else:\n",
    "            return 0\n",
    "    \n",
    "    sum_P_alpha = sum_propensity(start, end, 'alpha')\n",
    "    sum_P_beta = sum_propensity(start, end, 'beta')\n",
    "\n",
    "    return 'alpha' if sum_P_alpha > sum_P_beta else 'beta'\n",
    "\n",
    "\n",
    "alpha_line = ['-'] * sequence_length\n",
    "for start, end in alpha_helices:\n",
    "    alpha_line[start:end+1] = ['H'] * (end - start + 1)\n",
    "beta_line = ['-'] * sequence_length\n",
    "for start, end in beta_sheets:\n",
    "    beta_line[start:end+1] = ['E'] * (end - start + 1)\n",
    "overlap_line = ['-'] * sequence_length\n",
    "\n",
    "for start, end in overlaps:\n",
    "    structure_type = compare_structure_propensity(start, end, chou_fasman_table, sequence)\n",
    "    if structure_type == 'alpha':\n",
    "        overlap_line[start:end+1] = ['H'] * (end - start + 1)\n",
    "        beta_line[start:end+1] = ['-'] * (end - start + 1)\n",
    "    else:\n",
    "        overlap_line[start:end+1] = ['E'] * (end - start + 1)\n",
    "        alpha_line[start:end+1] = ['-'] * (end - start + 1)\n",
    "\n",
    "counter = 0\n",
    "for i in range(len(alpha_line)):\n",
    "    if alpha_line[i] == 'A':\n",
    "        counter += 1\n",
    "    else:\n",
    "        if (counter != 0 and counter < 5):\n",
    "            for j in range(counter):\n",
    "                alpha_line[i-j-1] = '-'\n",
    "        counter = 0\n",
    "counter = 0\n",
    "for i in beta_line:\n",
    "    if i == 'E':\n",
    "        counter += 1\n",
    "    else:\n",
    "        if (counter != 0 and counter < 5):\n",
    "            for j in range(counter):\n",
    "                beta_line[i-j-1] = '-'\n",
    "        counter = 0\n",
    "for i in range(len(alpha_line)):\n",
    "    if alpha_line[i] == 'H':\n",
    "        overlap_line[i] = 'H'\n",
    "for i in range(len(beta_line)):\n",
    "    if beta_line[i] == 'E':\n",
    "        overlap_line[i] = 'E'        \n",
    "print(\"\".join(overlap_line))"
   ]
  },
  {
   "cell_type": "code",
   "execution_count": 260,
   "metadata": {},
   "outputs": [
    {
     "name": "stdout",
     "output_type": "stream",
     "text": [
      "Final alpha-helices: [(8, 20), (25, 84), (92, 98), (103, 177)]\n",
      "Final beta-sheets: [(30, 43), (49, 65), (71, 178)]\n"
     ]
    }
   ],
   "source": [
    "print(\"Final alpha-helices:\", alpha_helices)\n",
    "print(\"Final beta-sheets:\", beta_sheets)"
   ]
  },
  {
   "cell_type": "code",
   "execution_count": 261,
   "metadata": {},
   "outputs": [
    {
     "name": "stdout",
     "output_type": "stream",
     "text": [
      "Predicted turns: [(2, 7), (16, 34), (43, 49), (52, 58), (84, 91), (99, 111), (140, 151), (155, 160), (169, 172)]\n"
     ]
    }
   ],
   "source": [
    "turns = predict_turns(sequence, chou_fasman_table)\n",
    "turns = consolidate_structures(turns)\n",
    "print(\"Predicted turns:\", turns)"
   ]
  },
  {
   "cell_type": "code",
   "execution_count": 262,
   "metadata": {},
   "outputs": [
    {
     "name": "stdout",
     "output_type": "stream",
     "text": [
      "12\n",
      "Labels: ['-', '-', 'T', 'T', 'T', 'T', 'T', 'T', 'H', 'H', 'H', 'H', 'H', 'H', 'H', 'H', 'T', 'T', 'T', 'T', 'T', 'T', 'T', 'T', 'T', 'T', 'T', 'T', 'T', 'T', 'T', 'T', 'T', 'T', 'T', 'H', 'H', 'H', 'H', 'H', 'H', 'H', 'H', 'T', 'T', 'T', 'T', 'T', 'T', 'T', '-', '-', 'T', 'T', 'T', 'T', 'T', 'T', 'T', 'E', 'E', 'E', 'E', 'E', 'E', 'E', 'H', 'H', 'H', 'H', 'H', 'E', 'E', 'E', 'E', 'E', 'E', 'E', 'E', 'E', 'E', 'E', 'E', 'E', 'T', 'T', 'T', 'T', 'T', 'T', 'T', 'T', 'E', 'E', 'E', 'E', 'E', 'E', 'E', 'T', 'T', 'T', 'T', 'T', 'T', 'T', 'T', 'T', 'T', 'T', 'T', 'T', 'E', 'E', 'E', 'E', 'E', 'E', 'E', 'E', 'E', 'E', 'E', 'E', 'E', 'E', 'E', 'E', 'E', 'E', 'E', 'E', 'E', 'E', 'E', 'E', 'E', 'E', 'E', 'E', 'T', 'T', 'T', 'T', 'T', 'T', 'T', 'T', 'T', 'T', 'T', 'T', '-', '-', '-', 'T', 'T', 'T', 'T', 'T', 'T', 'E', 'E', 'E', 'E', 'E', 'E', 'E', 'E', 'T', 'T', 'T', 'T', 'E', 'E', 'E', 'E', 'E', 'E']\n",
      "--TTTTTTHHHHHHHHTTTTTTTTTTTTTTTTTTTHHHHHHHHTTTTTTT--TTTTTTTEEEEEEEHHHHHEEEEEEEEEEEEETTTTTTTTEEEEEEETTTTTTTTTTTTTEEEEEEEEEEEEEEEEEEEEEEEEEEEETTTTTTTTTTTT---TTTTTTEEEEEEEETTTTEEEEEE\n"
     ]
    }
   ],
   "source": [
    "labels = overlap_line\n",
    "for start, end in turns:\n",
    "    labels[start:end+1] = (end - start + 1) * ['T']\n",
    "\n",
    "counter = 0\n",
    "for i in range(len(labels)):\n",
    "    if labels[i] == 'E':\n",
    "        counter += 1\n",
    "    else:\n",
    "        if (counter != 0 and counter < 5):\n",
    "            for j in range(counter):\n",
    "                labels[i-j-1] = '-'\n",
    "        counter = 0\n",
    "\n",
    "for i in range(len(labels)):\n",
    "    if labels[i] == 'H':\n",
    "        counter += 1\n",
    "    else:\n",
    "        if (counter != 0 and counter < 5):\n",
    "            for j in range(counter):\n",
    "                labels[i-j-1] = '-'\n",
    "        counter = 0\n",
    "\n",
    "print(sequence.count('T'))\n",
    "print(\"Labels:\", labels)\n",
    "print(\"\".join(labels))"
   ]
  },
  {
   "cell_type": "code",
   "execution_count": 263,
   "metadata": {},
   "outputs": [
    {
     "name": "stdout",
     "output_type": "stream",
     "text": [
      "Structure: unknown, Start: 0, End: 1\n",
      "Structure: turn, Start: 2, End: 7\n",
      "Structure: alpha, Start: 8, End: 20\n",
      "Structure: turn, Start: 16, End: 34\n",
      "Structure: alpha, Start: 25, End: 84\n",
      "Structure: beta, Start: 30, End: 43\n",
      "Structure: turn, Start: 43, End: 49\n",
      "Structure: beta, Start: 49, End: 65\n",
      "Structure: turn, Start: 52, End: 58\n",
      "Structure: beta, Start: 71, End: 178\n",
      "Structure: turn, Start: 84, End: 91\n",
      "Structure: alpha, Start: 92, End: 98\n",
      "Structure: turn, Start: 99, End: 111\n",
      "Structure: alpha, Start: 103, End: 177\n",
      "Structure: turn, Start: 140, End: 151\n",
      "Structure: turn, Start: 155, End: 160\n",
      "Structure: turn, Start: 169, End: 172\n",
      "Structure: unknown, Start: 179, End: 179\n"
     ]
    }
   ],
   "source": [
    "def create_structure_summary(sequence_length, alpha_helices, beta_sheets, turns):\n",
    "    structure_summary = []\n",
    "    last_end = -1\n",
    "\n",
    "    all_structures = [('alpha', start, end) for start, end in alpha_helices] + \\\n",
    "                     [('beta', start, end) for start, end in beta_sheets] + \\\n",
    "                     [('turn', start, end) for start, end in turns]\n",
    "\n",
    "    # Check that start and end points are integers\n",
    "    for structure in all_structures:\n",
    "        if not (isinstance(structure[1], int) and isinstance(structure[2], int)):\n",
    "            raise TypeError(\"Start and end points of structures must be integers.\")\n",
    "\n",
    "    all_structures.sort(key=lambda x: x[1])\n",
    "\n",
    "    def add_unknown_region(start, end):\n",
    "        if start <= end:\n",
    "            structure_summary.append(('unknown', start, end))\n",
    "\n",
    "    for structure_type, start, end in all_structures:\n",
    "        if start > last_end + 1:\n",
    "            add_unknown_region(last_end + 1, start - 1)\n",
    "        structure_summary.append((structure_type, start, end))\n",
    "        last_end = max(last_end, end)\n",
    "\n",
    "    add_unknown_region(last_end + 1, sequence_length)\n",
    "\n",
    "    return structure_summary\n",
    "\n",
    "\n",
    "alpha_helices = alpha_helices\n",
    "beta_sheets = beta_sheets\n",
    "turns = turns\n",
    "\n",
    "structure_summary = create_structure_summary(sequence_length, alpha_helices, beta_sheets, turns)\n",
    "\n",
    "# Print the structure summary\n",
    "for structure_type, start, end in structure_summary:\n",
    "    print(f\"Structure: {structure_type}, Start: {start}, End: {end}\")"
   ]
  },
  {
   "cell_type": "code",
   "execution_count": 264,
   "metadata": {},
   "outputs": [
    {
     "name": "stdout",
     "output_type": "stream",
     "text": [
      "['Unknown', 'Unknown', 'Unknown', 'Unknown', 'Unknown', 'Unknown', 'Unknown', 'Unknown', 'Unknown', 'Unknown', 'Unknown', 'Unknown', 'Unknown', 'Unknown', 'Unknown', 'Unknown', 'Unknown', 'Unknown', 'Unknown', 'Unknown', 'Unknown', 'Unknown', 'Unknown', 'Unknown', 'Unknown', 'Unknown', 'Unknown', 'Unknown', 'Unknown', 'Unknown', 'Helix', 'Helix', 'Helix', 'Helix', 'Helix', 'Helix', 'Helix', 'Helix', 'Helix', 'Helix', 'Helix', 'Helix', 'Helix', 'Helix', 'Helix', 'Helix', 'Unknown', 'Unknown', 'Unknown', 'Unknown', 'Beta strand', 'Beta strand', 'Beta strand', 'Beta strand', 'Beta strand', 'Unknown', 'Unknown', 'Unknown', 'Unknown', 'Unknown', 'Unknown', 'Beta strand', 'Beta strand', 'Beta strand', 'Beta strand', 'Beta strand', 'Beta strand', 'Beta strand', 'Beta strand', 'Unknown', 'Unknown', 'Unknown', 'Unknown', 'Unknown', 'Unknown', 'Unknown', 'Unknown', 'Unknown', 'Beta strand', 'Beta strand', 'Beta strand', 'Beta strand', 'Beta strand', 'Beta strand', 'Beta strand', 'Unknown', 'Unknown', 'Turn', 'Turn', 'Turn', 'Turn', 'Turn', 'Unknown', 'Unknown', 'Unknown', 'Beta strand', 'Beta strand', 'Beta strand', 'Beta strand', 'Beta strand', 'Beta strand', 'Unknown', 'Unknown', 'Unknown', 'Unknown', 'Unknown', 'Unknown', 'Unknown', 'Unknown', 'Unknown', 'Unknown', 'Beta strand', 'Beta strand', 'Beta strand', 'Unknown', 'Unknown', 'Helix', 'Helix', 'Helix', 'Turn', 'Turn', 'Turn', 'Unknown', 'Unknown', 'Unknown', 'Unknown', 'Unknown', 'Unknown', 'Helix', 'Helix', 'Helix', 'Helix', 'Helix', 'Helix', 'Helix', 'Helix', 'Helix', 'Helix', 'Helix', 'Helix', 'Helix', 'Unknown', 'Unknown', 'Unknown', 'Unknown', 'Unknown', 'Unknown', 'Unknown', 'Unknown', 'Unknown', 'Helix', 'Helix', 'Helix', 'Helix', 'Helix', 'Helix', 'Unknown', 'Unknown', 'Unknown', 'Helix', 'Helix', 'Helix', 'Helix', 'Helix', 'Helix', 'Helix', 'Helix', 'Helix', 'Helix', 'Helix', 'Helix', 'Helix', 'Helix', 'Unknown', 'Unknown', 'Unknown', 'Unknown', 'Unknown', 'Unknown']\n",
      "--TTTTTTHHHHHHHHTTTTTTTTTTTTTTTTTTTHHHHHHHHTTTTTTT--TTTTTTTEEEEEEEHHHHHEEEEEEEEEEEEETTTTTTTTEEEEEEETTTTTTTTTTTTTEEEEEEEEEEEEEEEEEEEEEEEEEEEETTTTTTTTTTTT---TTTTTTEEEEEEEETTTTEEEEEE\n"
     ]
    }
   ],
   "source": [
    "def generate_labels(sequence_length, structure_data):\n",
    "    labels = [\"Unknown\"] * sequence_length\n",
    "\n",
    "    for structure_type, start, end in structure_data:\n",
    "        # Ensure the range is within the sequence length\n",
    "        start = max(0, start)\n",
    "        end = min(end, sequence_length - 1)\n",
    "\n",
    "        for i in range(start, end + 1):\n",
    "            # Use provided structure type for true data\n",
    "            labels[i] = structure_type\n",
    "\n",
    "    return labels\n",
    "\n",
    "# True labels from sse_data\n",
    "true_labels = generate_labels(sequence_length, sse_data)\n",
    "print(true_labels)\n",
    "predicted_labels = []\n",
    "for i in labels:\n",
    "    if i == 'H':\n",
    "        predicted_labels.append('Helix')\n",
    "    elif i == 'E':\n",
    "        predicted_labels.append('Beta strand')\n",
    "    elif i == 'T':\n",
    "        predicted_labels.append('Turn')\n",
    "    else:\n",
    "        predicted_labels.append('Unknown')\n",
    "print(\"\".join(labels))"
   ]
  },
  {
   "cell_type": "code",
   "execution_count": 265,
   "metadata": {},
   "outputs": [
    {
     "data": {
      "image/png": "[encoded data removed]",
      "text/plain": [
       "<Figure size 1000x700 with 2 Axes>"
      ]
     },
     "metadata": {},
     "output_type": "display_data"
    },
    {
     "name": "stdout",
     "output_type": "stream",
     "text": [
      "\n",
      "Classification Report:\n",
      "               precision    recall  f1-score   support\n",
      "\n",
      "       Helix       0.38      0.15      0.22        52\n",
      " Beta strand       0.25      0.59      0.35        29\n",
      "        Turn       0.06      0.62      0.11         8\n",
      "     Unknown       0.29      0.02      0.04        90\n",
      "\n",
      "    accuracy                           0.18       179\n",
      "   macro avg       0.24      0.35      0.18       179\n",
      "weighted avg       0.30      0.18      0.15       179\n",
      "\n"
     ]
    }
   ],
   "source": [
    "# Assuming true_labels and predicted_labels are defined and contain the true and predicted labels\n",
    "cm = confusion_matrix(true_labels, predicted_labels, labels=[\"Helix\", \"Beta strand\", \"Turn\", \"Unknown\"])\n",
    "\n",
    "# Create a heatmap to visualize the confusion matrix\n",
    "plt.figure(figsize=(10, 7))\n",
    "sns.heatmap(cm, annot=True, fmt='g', cmap='Blues', xticklabels=[\"Helix\", \"Beta strand\", \"Turn\", \"Unknown\"], yticklabels=[\"Helix\", \"Beta strand\", \"Turn\", \"Unknown\"])\n",
    "plt.xlabel('Predicted Labels')\n",
    "plt.ylabel('True Labels')\n",
    "plt.title('Confusion Matrix')\n",
    "plt.show()\n",
    "\n",
    "# Print a classification report for more details\n",
    "print(\"\\nClassification Report:\\n\", classification_report(true_labels, predicted_labels, labels=[\"Helix\", \"Beta strand\", \"Turn\", \"Unknown\"]))\n"
   ]
  }
 ],
 "metadata": {
  "kernelspec": {
   "display_name": "Python 3",
   "language": "python",
   "name": "python3"
  },
  "language_info": {
   "codemirror_mode": {
    "name": "ipython",
    "version": 3
   },
   "file_extension": ".py",
   "mimetype": "text/x-python",
   "name": "python",
   "nbconvert_exporter": "python",
   "pygments_lexer": "ipython3",
   "version": "3.10.11"
  }
 },
 "nbformat": 4,
 "nbformat_minor": 2
}
